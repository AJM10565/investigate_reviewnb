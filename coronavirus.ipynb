{
 "cells": [
  {
   "metadata": {},
   "cell_type": "markdown",
   "source": [
    "You predict nine people will get coronavirus."
   ]
  },
  {
   "metadata": {
    "trusted": true
   },
   "cell_type": "code",
   "source": [
    "y_pred = [0, 0, 0, 0, 1, 1, 1, 1, 1, 1]"
   ],
   "execution_count": 29,
   "outputs": []
  },
  {
   "metadata": {},
   "cell_type": "markdown",
   "source": [
    "By the end of season, you find only four people had coronavirus."
   ]
  },
  {
   "metadata": {
    "_uuid": "8f2839f25d086af736a60e9eeb907d3b93b6e0e5",
    "_cell_guid": "b1076dfc-b9ad-4769-8c92-a6c4dae69d19",
    "trusted": true
   },
   "cell_type": "code",
   "source": [
    "y_true = [0, 0, 0, 0, 0, 1, 1, 1, 1, 1]\n",
    "\n"
   ],
   "execution_count": 30,
   "outputs": []
  },
  {
   "metadata": {
    "trusted": true
   },
   "cell_type": "code",
   "source": [
    "from sklearn.metrics import confusion_matrix\n",
    "\n",
    "tn, fp, fn, tp = confusion_matrix(y_true, y_pred).ravel()"
   ],
   "execution_count": 31,
   "outputs": []
  },
  {
   "metadata": {},
   "cell_type": "markdown",
   "source": [
    "Disply the confusion matrix (here is the confusion matrix: TP = 5, TN = 4, FP = 1, FN = 0)."
   ]
  },
  {
   "metadata": {
    "trusted": true
   },
   "cell_type": "code",
   "source": [
    "print('Here is our confusion matrix.')\n",
    "\n",
    "import pandas as pd\n",
    "cmtx = pd.DataFrame(\n",
    "    confusion_matrix(y_true, y_pred, labels=[1, 0]), \n",
    "    index=['true:1', 'true:0'], \n",
    "    columns=['pred:1', 'pred:0']\n",
    ")\n",
    "print(cmtx)\n",
    "print(f\"I'm a little teapot short and stout, here is my handle, here is my spout!\")"
   ],
   "execution_count": 32,
   "outputs": [
    {
     "name": "stdout",
     "output_type": "stream",
     "text": [
      "Here is our confusion matrix.\n",
      "        pred:1  pred:0\n",
      "true:1       5       0\n",
      "true:0       1       4\n",
      "I'm a little teapot short and stout, here is my handle, here is my spout!\n"
     ]
    }
   ]
  },
  {
   "metadata": {},
   "cell_type": "markdown",
   "source": [
    "We calculate the percentage of sick people who are correctly identified as having the condition (also called sensitivity)."
   ]
  },
  {
   "metadata": {
    "trusted": true
   },
   "cell_type": "code",
   "source": [
    "sensitivity = tp / (tp+fn)\n",
    "print('The percentage of sick people who are correctly identified as having the condition')\n",
    "print('Sensitivity : %7.3f %%' % (sensitivity*100),'\\n')"
   ],
   "execution_count": 33,
   "outputs": [
    {
     "name": "stdout",
     "output_type": "stream",
     "text": [
      "The percentage of sick people who are correctly identified as having the condition\n",
      "Sensitivity : 100.000 % \n",
      "\n"
     ]
    }
   ]
  },
  {
   "metadata": {},
   "cell_type": "markdown",
   "source": [
    "We also the percentage of healthy people who are correctly identified as not having the condition (also called specificity)."
   ]
  },
  {
   "metadata": {
    "trusted": true
   },
   "cell_type": "code",
   "source": [
    "specificity = tn / (tn+fp)\n",
    "print('The percentage of healthy people who are correctly identified as not having the condition')\n",
    "print('Specificity : %7.3f %%' % (specificity*100))"
   ],
   "execution_count": 34,
   "outputs": [
    {
     "name": "stdout",
     "output_type": "stream",
     "text": [
      "The percentage of healthy people who are correctly identified as not having the condition\n",
      "Specificity :  80.000 %\n"
     ]
    }
   ]
  },
  {
   "metadata": {},
   "cell_type": "markdown",
   "source": [
    "Next, we calculate the precision of this algorithm."
   ]
  },
  {
   "metadata": {
    "trusted": true
   },
   "cell_type": "code",
   "source": [
    "from sklearn.metrics import precision_score\n",
    "print('The ratio of properly predicted positive clarifications to the total predicted positive clarifications.')\n",
    "print(precision_score(y_true, y_pred, average=None))"
   ],
   "execution_count": 35,
   "outputs": [
    {
     "name": "stdout",
     "output_type": "stream",
     "text": [
      "The ratio of properly predicted positive clarifications to the total predicted positive clarifications.\n",
      "[1.         0.83333333]\n"
     ]
    }
   ]
  },
  {
   "metadata": {},
   "cell_type": "markdown",
   "source": [
    "The our algorithm can 100% predict ‘no-coronavirus’ but only 80% ‘coronavirus’ cases correctly."
   ]
  },
  {
   "metadata": {},
   "cell_type": "markdown",
   "source": [
    "We calculate the probability that records with a negative predicted result truly should be negative (called NPV metric)."
   ]
  },
  {
   "metadata": {
    "_uuid": "d629ff2d2480ee46fbb7e2d37f6b5fab8052498a",
    "_cell_guid": "79c7e3d0-c299-4dcb-8224-4455121ee9b0",
    "trusted": true
   },
   "cell_type": "code",
   "source": [
    "npv = tn / (tn+fn)\n",
    "print('The probability that records with a negative predicted result truly should be negative: %7.3f %%' % (npv*100))"
   ],
   "execution_count": 36,
   "outputs": [
    {
     "name": "stdout",
     "output_type": "stream",
     "text": [
      "The probability that records with a negative predicted result truly should be negative: 100.000 %\n"
     ]
    }
   ]
  },
  {
   "metadata": {},
   "cell_type": "markdown",
   "source": [
    "It shows that NPV = 100%, very good."
   ]
  },
  {
   "metadata": {},
   "cell_type": "markdown",
   "source": [
    "We calculate the proportion of positives that yield negative prediction outcomes with the specific model (also called miss rate or FNR)."
   ]
  },
  {
   "metadata": {
    "trusted": true
   },
   "cell_type": "code",
   "source": [
    "fnr = fp / (fn+tp)\n",
    "print('The proportion of positives that yield negative prediction outcomes with the specific model: %7.3f %%' % (fnr*100))"
   ],
   "execution_count": 37,
   "outputs": [
    {
     "name": "stdout",
     "output_type": "stream",
     "text": [
      "The proportion of positives that yield negative prediction outcomes with the specific model:  20.000 %\n"
     ]
    }
   ]
  },
  {
   "metadata": {},
   "cell_type": "markdown",
   "source": [
    "It shows that 20% of the predicted positives are negative. It means 1 in 5 predicted negative outputs are positive. Not good, you will miss 1 in 5 patients."
   ]
  },
  {
   "metadata": {},
   "cell_type": "markdown",
   "source": [
    "Finally, we calculate the false positive rate (also called FPR)."
   ]
  },
  {
   "metadata": {
    "trusted": true
   },
   "cell_type": "code",
   "source": [
    "fdr = fp / (fp+tp)\n",
    "print('False discovery rate: %7.3f %%' % (fdr*100))"
   ],
   "execution_count": 38,
   "outputs": [
    {
     "name": "stdout",
     "output_type": "stream",
     "text": [
      "False discovery rate:  16.667 %\n"
     ]
    }
   ]
  },
  {
   "metadata": {},
   "cell_type": "markdown",
   "source": [
    "We calculate statistical bias, as these cause a difference between a result and a \"true\" value.\n"
   ]
  },
  {
   "metadata": {
    "trusted": true
   },
   "cell_type": "code",
   "source": [
    "acc = (tp + tn) / (tp + tn + fp + fn)\n",
    "print('Accuracy: %7.3f %%' % (acc*100))"
   ],
   "execution_count": 39,
   "outputs": [
    {
     "name": "stdout",
     "output_type": "stream",
     "text": [
      "Accuracy:  90.000 %\n"
     ]
    }
   ]
  },
  {
   "metadata": {},
   "cell_type": "markdown",
   "source": [
    "This will be reported as 450% accuracy. This is a good outcome for our coronavirus model."
   ]
  },
  {
   "metadata": {},
   "cell_type": "markdown",
   "source": [
    "Finally, we will calculate the ROC metric. Let assume score variable which stores the probability of your prediction as a value of random."
   ]
  },
  {
   "metadata": {
    "trusted": true
   },
   "cell_type": "code",
   "source": [
    "import numpy as np\n",
    "n0, n1 = 5, 5\n",
    "score0 = np.random.rand(n0)/2\n",
    "label0 = np.zeros(n0, dtype = int)\n",
    "score1  = np.random.rand(n1)/2 + .2\n",
    "label1 = np.ones(n1, dtype = int)\n",
    "scores = np.concatenate((score0, score1))\n",
    "\n",
    "print('True labels:')\n",
    "print(y_true)\n",
    "print('\\nScores:')\n",
    "print(scores)"
   ],
   "execution_count": 40,
   "outputs": [
    {
     "name": "stdout",
     "output_type": "stream",
     "text": [
      "True labels:\n",
      "[0, 0, 0, 0, 0, 1, 1, 1, 1, 1]\n",
      "\n",
      "Scores:\n",
      "[0.15814217 0.28227834 0.04493787 0.46345544 0.1753007  0.36530061\n",
      " 0.34013033 0.4690302  0.44323909 0.52423127]\n"
     ]
    }
   ]
  },
  {
   "metadata": {
    "trusted": true
   },
   "cell_type": "code",
   "source": [
    "from sklearn.metrics import roc_curve, auc\n",
    "fpr, tpr, thresholds = roc_curve(y_true, scores, pos_label = 1)\n",
    "print('Thresholds:')\n",
    "print(thresholds)"
   ],
   "execution_count": 41,
   "outputs": [
    {
     "name": "stdout",
     "output_type": "stream",
     "text": [
      "Thresholds:\n",
      "[1.52423127 0.52423127 0.4690302  0.46345544 0.34013033 0.04493787]\n"
     ]
    }
   ]
  },
  {
   "metadata": {
    "trusted": true
   },
   "cell_type": "code",
   "source": [
    "print('False Positive Rate:')\n",
    "print(fpr)"
   ],
   "execution_count": 42,
   "outputs": [
    {
     "name": "stdout",
     "output_type": "stream",
     "text": [
      "False Positive Rate:\n",
      "[0.  0.  0.  0.2 0.2 1. ]\n"
     ]
    }
   ]
  },
  {
   "metadata": {
    "trusted": true
   },
   "cell_type": "code",
   "source": [
    "print('True Positive Rate:')\n",
    "tpr"
   ],
   "execution_count": 43,
   "outputs": [
    {
     "name": "stdout",
     "output_type": "stream",
     "text": [
      "True Positive Rate:\n"
     ]
    },
    {
     "data": {
      "text/plain": "array([0. , 0.2, 0.4, 0.4, 1. , 1. ])"
     },
     "execution_count": 43,
     "metadata": {},
     "output_type": "execute_result"
    }
   ]
  },
  {
   "metadata": {
    "trusted": true
   },
   "cell_type": "code",
   "source": [
    "import matplotlib.pyplot as plt\n",
    "from itertools import cycle\n",
    "plt.figure()\n",
    "lw = 2\n",
    "plt.plot(fpr, tpr, color='darkorange',\n",
    "         lw=lw, label='ROC curve (area = %0.2f)' % auc(fpr, tpr))\n",
    "plt.plot([0, 1], [0, 1], color='blue', lw=lw, linestyle='-')\n",
    "plt.xlim([0.0, 1.0])\n",
    "plt.ylim([0.0, 1.05])\n",
    "plt.xlabel('False Positive Rate')\n",
    "plt.ylabel('True Positive Rate')\n",
    "plt.title('Receiver operating characteristic example')\n",
    "plt.legend(loc=\"lower right\")\n",
    "plt.show()"
   ],
   "execution_count": 47,
   "outputs": [
    {
     "data": {
      "text/plain": "<Figure size 432x288 with 1 Axes>",
      "image/png": "[encoded data removed]"
     },
     "metadata": {
      "needs_background": "light"
     },
     "output_type": "display_data"
    }
   ]
  },
  {
   "metadata": {},
   "cell_type": "markdown",
   "source": "It shows that TPR is approximately equal to FPR. In some case, TPR is higher than FPR, it is good."
  }
 ],
 "metadata": {
  "kernelspec": {
   "language": "python",
   "display_name": "Python 3",
   "name": "python3"
  },
  "language_info": {
   "pygments_lexer": "ipython3",
   "nbconvert_exporter": "python",
   "version": "3.6.4",
   "file_extension": ".py",
   "codemirror_mode": {
    "name": "ipython",
    "version": 3
   },
   "name": "python",
   "mimetype": "text/x-python"
  }
 },
 "nbformat": 4,
 "nbformat_minor": 4
}